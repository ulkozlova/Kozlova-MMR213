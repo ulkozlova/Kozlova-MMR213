{
 "cells": [
  {
   "cell_type": "markdown",
   "id": "199f60da",
   "metadata": {},
   "source": [
    "# <font color = green> **Практическая работа 1** </font>\n",
    "<font color = green> Выполнила: Козлова Ульяна ММР 213 </font>\n",
    "\n",
    "<font color = black> Датафрейм All Space Missions содержит информацию о полётах в космос с самого начала до 2020 года включительно https://www.kaggle.com/datasets/agirlcoding/all-space-missions-from-1957?datasetId=828921 </font>"
   ]
  },
  {
   "cell_type": "code",
   "execution_count": 1,
   "id": "7edd17c7",
   "metadata": {},
   "outputs": [],
   "source": [
    "import pandas as pd\n",
    "import matplotlib.pyplot as plt\n",
    "df = pd.read_csv('Space_Corrected.csv')\n"
   ]
  },
  {
   "cell_type": "markdown",
   "id": "68bced1f",
   "metadata": {},
   "source": [
    "# <font color = black> **Подготовка датасета** </font>"
   ]
  },
  {
   "cell_type": "code",
   "execution_count": 2,
   "id": "769689eb",
   "metadata": {},
   "outputs": [
    {
     "name": "stdout",
     "output_type": "stream",
     "text": [
      "(4324, 9)\n"
     ]
    }
   ],
   "source": [
    "print(df.shape)\n"
   ]
  },
  {
   "cell_type": "code",
   "execution_count": 3,
   "id": "9f159ca6",
   "metadata": {},
   "outputs": [
    {
     "name": "stdout",
     "output_type": "stream",
     "text": [
      "<class 'pandas.core.frame.DataFrame'>\n",
      "RangeIndex: 4324 entries, 0 to 4323\n",
      "Data columns (total 9 columns):\n",
      " #   Column          Non-Null Count  Dtype \n",
      "---  ------          --------------  ----- \n",
      " 0   Unnamed:        4324 non-null   int64 \n",
      " 1   Unnamed: 0      4324 non-null   int64 \n",
      " 2   Company Name    4324 non-null   object\n",
      " 3   Location        4324 non-null   object\n",
      " 4   Datum           4324 non-null   object\n",
      " 5   Detail          4324 non-null   object\n",
      " 6   Status Rocket   4324 non-null   object\n",
      " 7   Rocket          964 non-null    object\n",
      " 8   Status Mission  4324 non-null   object\n",
      "dtypes: int64(2), object(7)\n",
      "memory usage: 304.2+ KB\n"
     ]
    }
   ],
   "source": [
    "df.info()"
   ]
  },
  {
   "cell_type": "code",
   "execution_count": 4,
   "id": "c571f8ae",
   "metadata": {},
   "outputs": [
    {
     "name": "stdout",
     "output_type": "stream",
     "text": [
      "   Unnamed:  Unnamed: 0 Company Name  \\\n",
      "0         0           0       SpaceX   \n",
      "1         1           1         CASC   \n",
      "2         2           2       SpaceX   \n",
      "3         3           3    Roscosmos   \n",
      "4         4           4          ULA   \n",
      "\n",
      "                                            Location  \\\n",
      "0         LC-39A, Kennedy Space Center, Florida, USA   \n",
      "1  Site 9401 (SLS-2), Jiuquan Satellite Launch Ce...   \n",
      "2                      Pad A, Boca Chica, Texas, USA   \n",
      "3       Site 200/39, Baikonur Cosmodrome, Kazakhstan   \n",
      "4           SLC-41, Cape Canaveral AFS, Florida, USA   \n",
      "\n",
      "                        Datum                                        Detail  \\\n",
      "0  Fri Aug 07, 2020 05:12 UTC  Falcon 9 Block 5 | Starlink V1 L9 & BlackSky   \n",
      "1  Thu Aug 06, 2020 04:01 UTC           Long March 2D | Gaofen-9 04 & Q-SAT   \n",
      "2  Tue Aug 04, 2020 23:57 UTC            Starship Prototype | 150 Meter Hop   \n",
      "3  Thu Jul 30, 2020 21:25 UTC  Proton-M/Briz-M | Ekspress-80 & Ekspress-103   \n",
      "4  Thu Jul 30, 2020 11:50 UTC                    Atlas V 541 | Perseverance   \n",
      "\n",
      "  Status Rocket  Rocket Status Mission  \n",
      "0  StatusActive   50.0         Success  \n",
      "1  StatusActive  29.75         Success  \n",
      "2  StatusActive     NaN        Success  \n",
      "3  StatusActive   65.0         Success  \n",
      "4  StatusActive  145.0         Success  \n"
     ]
    }
   ],
   "source": [
    "print(df.head())\n"
   ]
  },
  {
   "cell_type": "markdown",
   "id": "d260e4b3",
   "metadata": {},
   "source": [
    "В используемом DataFrame задублирована колонка с номером, удалем обе"
   ]
  },
  {
   "cell_type": "code",
   "execution_count": 5,
   "id": "75ee0fbd",
   "metadata": {},
   "outputs": [],
   "source": [
    "df = df.drop(['Unnamed:','Unnamed: 0' ], axis=1)\n"
   ]
  },
  {
   "cell_type": "code",
   "execution_count": 6,
   "id": "069fde0b",
   "metadata": {
    "scrolled": true
   },
   "outputs": [
    {
     "name": "stdout",
     "output_type": "stream",
     "text": [
      "     Company Name                                           Location  \\\n",
      "0          SpaceX         LC-39A, Kennedy Space Center, Florida, USA   \n",
      "1            CASC  Site 9401 (SLS-2), Jiuquan Satellite Launch Ce...   \n",
      "2          SpaceX                      Pad A, Boca Chica, Texas, USA   \n",
      "3       Roscosmos       Site 200/39, Baikonur Cosmodrome, Kazakhstan   \n",
      "4             ULA           SLC-41, Cape Canaveral AFS, Florida, USA   \n",
      "...           ...                                                ...   \n",
      "4319      US Navy           LC-18A, Cape Canaveral AFS, Florida, USA   \n",
      "4320         AMBA           LC-26A, Cape Canaveral AFS, Florida, USA   \n",
      "4321      US Navy           LC-18A, Cape Canaveral AFS, Florida, USA   \n",
      "4322    RVSN USSR          Site 1/5, Baikonur Cosmodrome, Kazakhstan   \n",
      "4323    RVSN USSR          Site 1/5, Baikonur Cosmodrome, Kazakhstan   \n",
      "\n",
      "                           Datum  \\\n",
      "0     Fri Aug 07, 2020 05:12 UTC   \n",
      "1     Thu Aug 06, 2020 04:01 UTC   \n",
      "2     Tue Aug 04, 2020 23:57 UTC   \n",
      "3     Thu Jul 30, 2020 21:25 UTC   \n",
      "4     Thu Jul 30, 2020 11:50 UTC   \n",
      "...                          ...   \n",
      "4319  Wed Feb 05, 1958 07:33 UTC   \n",
      "4320  Sat Feb 01, 1958 03:48 UTC   \n",
      "4321  Fri Dec 06, 1957 16:44 UTC   \n",
      "4322  Sun Nov 03, 1957 02:30 UTC   \n",
      "4323  Fri Oct 04, 1957 19:28 UTC   \n",
      "\n",
      "                                            Detail  Status Rocket  Rocket  \\\n",
      "0     Falcon 9 Block 5 | Starlink V1 L9 & BlackSky   StatusActive   50.0    \n",
      "1              Long March 2D | Gaofen-9 04 & Q-SAT   StatusActive  29.75    \n",
      "2               Starship Prototype | 150 Meter Hop   StatusActive     NaN   \n",
      "3     Proton-M/Briz-M | Ekspress-80 & Ekspress-103   StatusActive   65.0    \n",
      "4                       Atlas V 541 | Perseverance   StatusActive  145.0    \n",
      "...                                            ...            ...     ...   \n",
      "4319                     Vanguard | Vanguard TV3BU  StatusRetired     NaN   \n",
      "4320                           Juno I | Explorer 1  StatusRetired     NaN   \n",
      "4321                       Vanguard | Vanguard TV3  StatusRetired     NaN   \n",
      "4322                    Sputnik 8K71PS | Sputnik-2  StatusRetired     NaN   \n",
      "4323                    Sputnik 8K71PS | Sputnik-1  StatusRetired     NaN   \n",
      "\n",
      "     Status Mission  \n",
      "0           Success  \n",
      "1           Success  \n",
      "2           Success  \n",
      "3           Success  \n",
      "4           Success  \n",
      "...             ...  \n",
      "4319        Failure  \n",
      "4320        Success  \n",
      "4321        Failure  \n",
      "4322        Success  \n",
      "4323        Success  \n",
      "\n",
      "[4324 rows x 7 columns]\n"
     ]
    }
   ],
   "source": [
    "print(df)"
   ]
  },
  {
   "cell_type": "markdown",
   "id": "75624e20",
   "metadata": {},
   "source": [
    "Обновленный DataFrame имеет 7 столбцов и 4324 строки. Теперь для удобства переименуем столбцы."
   ]
  },
  {
   "cell_type": "code",
   "execution_count": 7,
   "id": "13feb4a9",
   "metadata": {},
   "outputs": [],
   "source": [
    "df.rename(columns = {'Company Name':'Компания','Location':'Место запуска','Datum':'Дата и время запуска',\n",
    "'Detail':'Название ракеты','Status Rocket':'Статус ракеты','Rocket':'Стоимость миссии','Status Mission':'Статус миссии'}, inplace = True)\n"
   ]
  },
  {
   "cell_type": "code",
   "execution_count": 8,
   "id": "669575ca",
   "metadata": {},
   "outputs": [
    {
     "name": "stdout",
     "output_type": "stream",
     "text": [
      "Index(['Компания', 'Место запуска', 'Дата и время запуска', 'Название ракеты',\n",
      "       'Статус ракеты', 'Стоимость миссии', 'Статус миссии'],\n",
      "      dtype='object')\n"
     ]
    }
   ],
   "source": [
    "print(df.columns)"
   ]
  },
  {
   "cell_type": "markdown",
   "id": "a83fb5e1",
   "metadata": {},
   "source": [
    "Выведем информацию о DataFrame повторно для проверки данных"
   ]
  },
  {
   "cell_type": "code",
   "execution_count": 9,
   "id": "461426f6",
   "metadata": {},
   "outputs": [
    {
     "name": "stdout",
     "output_type": "stream",
     "text": [
      "<class 'pandas.core.frame.DataFrame'>\n",
      "RangeIndex: 4324 entries, 0 to 4323\n",
      "Data columns (total 7 columns):\n",
      " #   Column                Non-Null Count  Dtype \n",
      "---  ------                --------------  ----- \n",
      " 0   Компания              4324 non-null   object\n",
      " 1   Место запуска         4324 non-null   object\n",
      " 2   Дата и время запуска  4324 non-null   object\n",
      " 3   Название ракеты       4324 non-null   object\n",
      " 4   Статус ракеты         4324 non-null   object\n",
      " 5   Стоимость миссии      964 non-null    object\n",
      " 6   Статус миссии         4324 non-null   object\n",
      "dtypes: object(7)\n",
      "memory usage: 236.6+ KB\n",
      "    Компания                                      Место запуска  \\\n",
      "0     SpaceX         LC-39A, Kennedy Space Center, Florida, USA   \n",
      "1       CASC  Site 9401 (SLS-2), Jiuquan Satellite Launch Ce...   \n",
      "2     SpaceX                      Pad A, Boca Chica, Texas, USA   \n",
      "3  Roscosmos       Site 200/39, Baikonur Cosmodrome, Kazakhstan   \n",
      "4        ULA           SLC-41, Cape Canaveral AFS, Florida, USA   \n",
      "\n",
      "         Дата и время запуска                               Название ракеты  \\\n",
      "0  Fri Aug 07, 2020 05:12 UTC  Falcon 9 Block 5 | Starlink V1 L9 & BlackSky   \n",
      "1  Thu Aug 06, 2020 04:01 UTC           Long March 2D | Gaofen-9 04 & Q-SAT   \n",
      "2  Tue Aug 04, 2020 23:57 UTC            Starship Prototype | 150 Meter Hop   \n",
      "3  Thu Jul 30, 2020 21:25 UTC  Proton-M/Briz-M | Ekspress-80 & Ekspress-103   \n",
      "4  Thu Jul 30, 2020 11:50 UTC                    Atlas V 541 | Perseverance   \n",
      "\n",
      "  Статус ракеты Стоимость миссии Статус миссии  \n",
      "0  StatusActive            50.0        Success  \n",
      "1  StatusActive           29.75        Success  \n",
      "2  StatusActive              NaN       Success  \n",
      "3  StatusActive            65.0        Success  \n",
      "4  StatusActive           145.0        Success  \n"
     ]
    }
   ],
   "source": [
    "df.info()\n",
    "print(df.head())\n"
   ]
  },
  {
   "cell_type": "markdown",
   "id": "47ca6089",
   "metadata": {},
   "source": [
    "Колонка стоимости не готова к выводу, колонку 'Дата и время запуска' стоит разбить на 2.  \n",
    "\n",
    "Начнём с колонки стоимости полётов. В данной колонке есть две проблемы, которые мешают провести анализ:\n",
    "\n",
    "1)Неверный тип данных ((object вместо необходимого int64 или float64). - после доработки данных с помощью метода apply() задать необходимый тип \n",
    "2)Недостаточно данных. \n",
    "\n",
    "Есть 4 решения: \n",
    "1) Удалить данный столбец - нежелательный вариант из-за потери данных \n",
    "2) Заменить каким-то новым значением, который не встречается в столбце - возможный, но не самый лучший\n",
    "3) Найти среднее значение стоимости полетов для компаний, у которых не заполнен данный столбец и заполнить им пропуски \n",
    "4) Оценить необходимость данных компаний для полноценного анализа. \n",
    "\n",
    "Для решения выберем 3-ий вариант"
   ]
  },
  {
   "cell_type": "markdown",
   "id": "2889a0bd",
   "metadata": {},
   "source": [
    "Для начала выведем DataFrame с названиями компаний и средней ценой полетов. Для этого создадим побочный DataFrame temp и сохраним туда только те строчки, где нет пустых значений в этом столбце, применим тип данных float ко всем значениям. По итогу выведем среднее значение стоимости для каждой колонки, если у компании не будет средней цены или она будет равна 0 - уберем их из анализа."
   ]
  },
  {
   "cell_type": "code",
   "execution_count": 10,
   "id": "89800bb9",
   "metadata": {},
   "outputs": [],
   "source": [
    "temp = df[df['Стоимость миссии'] != 'NaN']"
   ]
  },
  {
   "cell_type": "code",
   "execution_count": 11,
   "id": "424d53a5",
   "metadata": {},
   "outputs": [
    {
     "name": "stdout",
     "output_type": "stream",
     "text": [
      "<class 'pandas.core.frame.DataFrame'>\n",
      "Int64Index: 4324 entries, 0 to 4323\n",
      "Data columns (total 7 columns):\n",
      " #   Column                Non-Null Count  Dtype \n",
      "---  ------                --------------  ----- \n",
      " 0   Компания              4324 non-null   object\n",
      " 1   Место запуска         4324 non-null   object\n",
      " 2   Дата и время запуска  4324 non-null   object\n",
      " 3   Название ракеты       4324 non-null   object\n",
      " 4   Статус ракеты         4324 non-null   object\n",
      " 5   Стоимость миссии      964 non-null    object\n",
      " 6   Статус миссии         4324 non-null   object\n",
      "dtypes: object(7)\n",
      "memory usage: 270.2+ KB\n"
     ]
    }
   ],
   "source": [
    "temp.info()\n"
   ]
  },
  {
   "cell_type": "markdown",
   "id": "40985e0f",
   "metadata": {},
   "source": [
    "Создадим функцию, которая заменит нулевое значение в столбце на среднее"
   ]
  },
  {
   "cell_type": "code",
   "execution_count": 12,
   "id": "e06e58a9",
   "metadata": {},
   "outputs": [],
   "source": [
    "def price_float64(price):\n",
    "    price = str(price).replace('.','')\n",
    "    if ',' in str(price):\n",
    "        price = str(price).replace(',','.')\n",
    "    if ' ' in str(price):\n",
    "        price = str(price).replace(' ','')\n",
    "    return float(price)\n",
    "temp['Стоимость миссии'] = temp['Стоимость миссии'].apply(price_float64)"
   ]
  },
  {
   "cell_type": "code",
   "execution_count": 13,
   "id": "7e54e11b",
   "metadata": {},
   "outputs": [
    {
     "name": "stdout",
     "output_type": "stream",
     "text": [
      "<class 'pandas.core.frame.DataFrame'>\n",
      "Int64Index: 4324 entries, 0 to 4323\n",
      "Data columns (total 7 columns):\n",
      " #   Column                Non-Null Count  Dtype  \n",
      "---  ------                --------------  -----  \n",
      " 0   Компания              4324 non-null   object \n",
      " 1   Место запуска         4324 non-null   object \n",
      " 2   Дата и время запуска  4324 non-null   object \n",
      " 3   Название ракеты       4324 non-null   object \n",
      " 4   Статус ракеты         4324 non-null   object \n",
      " 5   Стоимость миссии      964 non-null    float64\n",
      " 6   Статус миссии         4324 non-null   object \n",
      "dtypes: float64(1), object(6)\n",
      "memory usage: 270.2+ KB\n"
     ]
    }
   ],
   "source": [
    "temp.info()\n"
   ]
  },
  {
   "cell_type": "code",
   "execution_count": 16,
   "id": "f1d4b24f",
   "metadata": {},
   "outputs": [
    {
     "name": "stdout",
     "output_type": "stream",
     "text": [
      "Компания\n",
      "AEB                         NaN\n",
      "AMBA                        NaN\n",
      "ASI                         NaN\n",
      "Arianespace         1702.604167\n",
      "Arm??e de l'Air             NaN\n",
      "Blue Origin                 NaN\n",
      "Boeing              1772.857143\n",
      "CASC                2639.753165\n",
      "CASIC                       NaN\n",
      "CECLES                      NaN\n",
      "CNES                        NaN\n",
      "Douglas                     NaN\n",
      "EER                  200.000000\n",
      "ESA                  370.000000\n",
      "Eurockot             418.000000\n",
      "ExPace               283.000000\n",
      "Exos                        NaN\n",
      "General Dynamics            NaN\n",
      "IAI                         NaN\n",
      "ILS                 1015.384615\n",
      "IRGC                        NaN\n",
      "ISA                         NaN\n",
      "ISAS                        NaN\n",
      "ISRO                 324.925373\n",
      "JAXA                 560.000000\n",
      "KARI                        NaN\n",
      "KCST                        NaN\n",
      "Khrunichev                  NaN\n",
      "Kosmotras            290.000000\n",
      "Land Launch                 NaN\n",
      "Landspace                   NaN\n",
      "Lockheed             350.000000\n",
      "MHI                  954.729730\n",
      "MITT                        NaN\n",
      "Martin Marietta      801.555556\n",
      "NASA                4107.483758\n",
      "Northrop             473.493976\n",
      "OKB-586                     NaN\n",
      "OneSpace                    NaN\n",
      "RAE                         NaN\n",
      "RVSN USSR              5.000000\n",
      "Rocket Lab            75.000000\n",
      "Roscosmos            516.304348\n",
      "SRC                         NaN\n",
      "Sandia               150.000000\n",
      "Sea Launch                  NaN\n",
      "SpaceX               549.898990\n",
      "Starsem                     NaN\n",
      "ULA                 1510.000000\n",
      "US Air Force        1472.000000\n",
      "US Navy                     NaN\n",
      "UT                          NaN\n",
      "VKS RF               469.363636\n",
      "Virgin Orbit         120.000000\n",
      "Yuzhmash                    NaN\n",
      "i-Space                     NaN\n",
      "Name: Стоимость миссии, dtype: float64\n"
     ]
    }
   ],
   "source": [
    "Company_mean = temp.groupby('Компания')['Стоимость миссии'].mean()\n",
    "print(Company_mean)\n",
    "Company_mean = Company_mean.reset_index()\n",
    "Company_mean_dict = {\n",
    "    'Arianespace': 1702.604167,\n",
    "    'Boeing': 1772.857143,\n",
    "    'CASC': 2639.753165,\n",
    "    'EER': 200.000000,\n",
    "    'Eurockot': 418.000000,\n",
    "    'ExPace': 283.000000,\n",
    "    'ILS': 1015.384615,\n",
    "    'ISRO': 324.925373,\n",
    "    'JAXA': 560.000000,\n",
    "    'Kosmotras': 290.000000,\n",
    "    'Lockheed': 350.000000,\n",
    "    'MHI': 954.729730,\n",
    "    'Martin Marietta':801.555556,\n",
    "    'NASA':4107.483758,\n",
    "    'Northrop':473.493976,\n",
    "    'RVSN USSR':5.000000,\n",
    "    'Rocket Lab':75.000000,\n",
    "    'Roscosmos':516.304348,\n",
    "    'Sandia':150.000000,\n",
    "    'SpaceX':549.898990,\n",
    "    'ULA':1510.000000,\n",
    "    'US Air Force':1472.000000,\n",
    "    'VKS RF':469.363636,\n",
    "    'Virgin Orbit':120.000000,\n",
    "}\n"
   ]
  },
  {
   "cell_type": "code",
   "execution_count": 17,
   "id": "eed842b1",
   "metadata": {},
   "outputs": [
    {
     "name": "stdout",
     "output_type": "stream",
     "text": [
      "<class 'pandas.core.frame.DataFrame'>\n",
      "Int64Index: 2890 entries, 2 to 4323\n",
      "Data columns (total 7 columns):\n",
      " #   Column                Non-Null Count  Dtype  \n",
      "---  ------                --------------  -----  \n",
      " 0   Компания              2890 non-null   object \n",
      " 1   Место запуска         2890 non-null   object \n",
      " 2   Дата и время запуска  2890 non-null   object \n",
      " 3   Название ракеты       2890 non-null   object \n",
      " 4   Статус ракеты         2890 non-null   object \n",
      " 5   Стоимость миссии      2890 non-null   float64\n",
      " 6   Статус миссии         2890 non-null   object \n",
      "dtypes: float64(1), object(6)\n",
      "memory usage: 180.6+ KB\n",
      "None\n"
     ]
    }
   ],
   "source": [
    "def NaN_price_float64(row):\n",
    "    if pd.isnull(row['Стоимость миссии']):\n",
    "        if row['Компания'] in Company_mean_dict:\n",
    "            return Company_mean_dict[row['Компания']]\n",
    "df['Стоимость миссии'] = df.apply(NaN_price_float64, axis = 1)\n",
    "df = df.dropna(axis=0)\n",
    "print(df.info())"
   ]
  },
  {
   "cell_type": "markdown",
   "id": "8e3d2165",
   "metadata": {},
   "source": [
    "В DataFrame только те строки и компании для которых было возможным\n",
    "дать стоимость миссии\n",
    "\n",
    "Заменим столбец с датой на столбец с годом запуска DataFrame"
   ]
  },
  {
   "cell_type": "code",
   "execution_count": 18,
   "id": "e337fa5b",
   "metadata": {},
   "outputs": [
    {
     "name": "stdout",
     "output_type": "stream",
     "text": [
      "<class 'pandas.core.frame.DataFrame'>\n",
      "Int64Index: 2890 entries, 2 to 4323\n",
      "Data columns (total 7 columns):\n",
      " #   Column                Non-Null Count  Dtype  \n",
      "---  ------                --------------  -----  \n",
      " 0   Компания              2890 non-null   object \n",
      " 1   Место запуска         2890 non-null   object \n",
      " 2   Дата и время запуска  2890 non-null   int64  \n",
      " 3   Название ракеты       2890 non-null   object \n",
      " 4   Статус ракеты         2890 non-null   object \n",
      " 5   Стоимость миссии      2890 non-null   float64\n",
      " 6   Статус миссии         2890 non-null   object \n",
      "dtypes: float64(1), int64(1), object(5)\n",
      "memory usage: 180.6+ KB\n",
      "None\n"
     ]
    }
   ],
   "source": [
    "def data_f(data):\n",
    "    data = data.split(', ')[1][0:4]\n",
    "    return int(data)\n",
    "df['Дата и время запуска'] = df['Дата и время запуска'].apply(data_f)\n",
    "print(df.info())\n"
   ]
  },
  {
   "cell_type": "markdown",
   "id": "8bde6a23",
   "metadata": {},
   "source": [
    "# <font color = black> **Исследование и анализ** </font>"
   ]
  },
  {
   "cell_type": "markdown",
   "id": "f649edad",
   "metadata": {},
   "source": [
    "Какие варианты статуса миссии могут быть?"
   ]
  },
  {
   "cell_type": "code",
   "execution_count": 19,
   "id": "7b2eadb7",
   "metadata": {},
   "outputs": [
    {
     "name": "stdout",
     "output_type": "stream",
     "text": [
      "Success              2618\n",
      "Failure               206\n",
      "Partial Failure        65\n",
      "Prelaunch Failure       1\n",
      "Name: Статус миссии, dtype: int64\n"
     ]
    }
   ],
   "source": [
    "print(df['Статус миссии'].value_counts())\n"
   ]
  },
  {
   "cell_type": "code",
   "execution_count": 20,
   "id": "d10b163e",
   "metadata": {},
   "outputs": [
    {
     "name": "stdout",
     "output_type": "stream",
     "text": [
      "<class 'pandas.core.frame.DataFrame'>\n",
      "Int64Index: 2890 entries, 2 to 4323\n",
      "Data columns (total 7 columns):\n",
      " #   Column                Non-Null Count  Dtype  \n",
      "---  ------                --------------  -----  \n",
      " 0   Компания              2890 non-null   object \n",
      " 1   Место запуска         2890 non-null   object \n",
      " 2   Дата и время запуска  2890 non-null   int64  \n",
      " 3   Название ракеты       2890 non-null   object \n",
      " 4   Статус ракеты         2890 non-null   object \n",
      " 5   Стоимость миссии      2890 non-null   float64\n",
      " 6   Статус миссии         2890 non-null   object \n",
      "dtypes: float64(1), int64(1), object(5)\n",
      "memory usage: 180.6+ KB\n",
      "None\n"
     ]
    }
   ],
   "source": [
    "def mission(status):\n",
    "    if status == 'Partial Failure' or status == 'Prelaunch Failure':\n",
    "        return 'Failure'\n",
    "    return 'Success'\n",
    "df['Статус миссии'] = df['Статус миссии'].apply(mission)\n",
    "print(df.info())\n"
   ]
  },
  {
   "cell_type": "markdown",
   "id": "5443e27e",
   "metadata": {},
   "source": [
    "Выведем статистику компаний по количеству успешных полетов"
   ]
  },
  {
   "cell_type": "code",
   "execution_count": 21,
   "id": "6d4c76e5",
   "metadata": {},
   "outputs": [
    {
     "name": "stdout",
     "output_type": "stream",
     "text": [
      "Выведем статистику компаний по  количеству  успешных  полетов\n",
      "RVSN USSR          1733\n",
      "Arianespace         181\n",
      "VKS RF              164\n",
      "US Air Force        134\n",
      "Boeing              128\n",
      "Martin Marietta     102\n",
      "CASC                 90\n",
      "Lockheed             71\n",
      "NASA                 49\n",
      "MHI                  45\n",
      "ULA                  42\n",
      "Roscosmos            32\n",
      "ILS                  32\n",
      "ExPace                9\n",
      "ISRO                  7\n",
      "JAXA                  4\n",
      "SpaceX                1\n",
      "Name: Компания, dtype: int64\n"
     ]
    }
   ],
   "source": [
    "company_success = df[df['Статус миссии'] == 'Success']\n",
    "print('Выведем статистику компаний по  количеству  успешных  полетов')\n",
    "print(company_success['Компания'].value_counts())\n"
   ]
  },
  {
   "cell_type": "code",
   "execution_count": 44,
   "id": "8141394f",
   "metadata": {},
   "outputs": [
    {
     "data": {
      "image/png": "[encoded data removed]",
      "text/plain": [
       "<Figure size 576x360 with 1 Axes>"
      ]
     },
     "metadata": {
      "needs_background": "light"
     },
     "output_type": "display_data"
    }
   ],
   "source": [
    "company_success['Компания'].value_counts().plot(kind = 'barh', figsize = (8, 5))\n",
    "plt.show()"
   ]
  },
  {
   "cell_type": "markdown",
   "id": "b80ab9c7",
   "metadata": {},
   "source": [
    "Выведем статистику компаний по количеству неудачных полетов"
   ]
  },
  {
   "cell_type": "code",
   "execution_count": 22,
   "id": "caea7947",
   "metadata": {
    "scrolled": true
   },
   "outputs": [
    {
     "name": "stdout",
     "output_type": "stream",
     "text": [
      "Выведем статистику компаний по  количеству  неудачных  полетов\n",
      "RVSN USSR          42\n",
      "NASA                5\n",
      "VKS RF              4\n",
      "CASC                3\n",
      "Martin Marietta     3\n",
      "Arianespace         2\n",
      "MHI                 2\n",
      "ISRO                2\n",
      "ILS                 1\n",
      "Boeing              1\n",
      "US Air Force        1\n",
      "Name: Компания, dtype: int64\n"
     ]
    }
   ],
   "source": [
    "company_failure = df[df['Статус миссии'] == 'Failure']\n",
    "print('Выведем статистику компаний по  количеству  неудачных  полетов')\n",
    "print(company_failure['Компания'].value_counts())\n"
   ]
  },
  {
   "cell_type": "code",
   "execution_count": 45,
   "id": "701a77f6",
   "metadata": {},
   "outputs": [
    {
     "data": {
      "image/png": "[encoded data removed]",
      "text/plain": [
       "<Figure size 576x360 with 1 Axes>"
      ]
     },
     "metadata": {
      "needs_background": "light"
     },
     "output_type": "display_data"
    }
   ],
   "source": [
    "company_failure['Компания'].value_counts().plot(kind = 'barh', figsize = (8, 5))\n",
    "plt.show()"
   ]
  },
  {
   "cell_type": "markdown",
   "id": "04583f82",
   "metadata": {},
   "source": [
    "Выведем статистику компаний по количеству успешных полетов после 2000 года"
   ]
  },
  {
   "cell_type": "code",
   "execution_count": 25,
   "id": "e330fc44",
   "metadata": {
    "scrolled": true
   },
   "outputs": [
    {
     "name": "stdout",
     "output_type": "stream",
     "text": [
      "Выведем статистику компаний по  количеству  успешных  полетов после 2000 года\n",
      "Arianespace    68\n",
      "VKS RF         62\n",
      "CASC           48\n",
      "ULA            42\n",
      "Boeing         39\n",
      "Roscosmos      31\n",
      "Lockheed       26\n",
      "MHI            13\n",
      "ILS            11\n",
      "ExPace          9\n",
      "JAXA            4\n",
      "SpaceX          1\n",
      "ISRO            1\n",
      "Name: Компания, dtype: int64\n"
     ]
    }
   ],
   "source": [
    "company_success_2000 = df[(df['Статус миссии'] == 'Success')&(df['Дата и время запуска']>=2000)]\n",
    "print('Выведем статистику компаний по  количеству  успешных  полетов после 2000 года')\n",
    "print(company_success_2000['Компания'].value_counts())\n"
   ]
  },
  {
   "cell_type": "code",
   "execution_count": 46,
   "id": "61d1efd6",
   "metadata": {},
   "outputs": [
    {
     "data": {
      "image/png": "[encoded data removed]",
      "text/plain": [
       "<Figure size 576x360 with 1 Axes>"
      ]
     },
     "metadata": {
      "needs_background": "light"
     },
     "output_type": "display_data"
    }
   ],
   "source": [
    "company_success_2000['Компания'].value_counts().plot(kind = 'barh', figsize = (8, 5))\n",
    "plt.show()"
   ]
  },
  {
   "cell_type": "markdown",
   "id": "bcff519f",
   "metadata": {},
   "source": [
    "Выведем статистику компаний по  количеству  неудачных  полетов после 2000 года"
   ]
  },
  {
   "cell_type": "code",
   "execution_count": 26,
   "id": "db801cc6",
   "metadata": {},
   "outputs": [
    {
     "name": "stdout",
     "output_type": "stream",
     "text": [
      "Выведем статистику компаний по  количеству  неудачных  полетов после 2000 года\n",
      "VKS RF         2\n",
      "Arianespace    2\n",
      "Name: Компания, dtype: int64\n"
     ]
    }
   ],
   "source": [
    "company_failure_2000 = df[(df['Статус миссии'] == 'Failure')&(df['Дата и время запуска']>=2000)]\n",
    "print('Выведем статистику компаний по  количеству  неудачных  полетов после 2000 года')\n",
    "print(company_failure_2000['Компания'].value_counts())\n"
   ]
  },
  {
   "cell_type": "code",
   "execution_count": 47,
   "id": "b2459a1c",
   "metadata": {},
   "outputs": [
    {
     "data": {
      "image/png": "[encoded data removed]",
      "text/plain": [
       "<Figure size 576x360 with 1 Axes>"
      ]
     },
     "metadata": {
      "needs_background": "light"
     },
     "output_type": "display_data"
    }
   ],
   "source": [
    "company_failure_2000['Компания'].value_counts().plot(kind = 'barh', figsize = (8, 5))\n",
    "plt.show()"
   ]
  },
  {
   "cell_type": "markdown",
   "id": "12d8b935",
   "metadata": {},
   "source": [
    "Выведем статистику компаний по  количеству  успешных  полетов до 2000 года"
   ]
  },
  {
   "cell_type": "code",
   "execution_count": 27,
   "id": "82199da5",
   "metadata": {},
   "outputs": [
    {
     "name": "stdout",
     "output_type": "stream",
     "text": [
      "# Выведем статистику компаний по  количеству  успешных  полетов до 2000 года\n",
      "RVSN USSR          1733\n",
      "US Air Force        134\n",
      "Arianespace         113\n",
      "VKS RF              102\n",
      "Martin Marietta     102\n",
      "Boeing               89\n",
      "NASA                 49\n",
      "Lockheed             45\n",
      "CASC                 42\n",
      "MHI                  32\n",
      "ILS                  21\n",
      "ISRO                  6\n",
      "Roscosmos             1\n",
      "Name: Компания, dtype: int64\n"
     ]
    }
   ],
   "source": [
    "company_success_until_2000 = df[(df['Статус миссии'] == 'Success')&(df['Дата и время запуска']<2000)]\n",
    "print('# Выведем статистику компаний по  количеству  успешных  полетов до 2000 года')\n",
    "print(company_success_until_2000 ['Компания'].value_counts())\n"
   ]
  },
  {
   "cell_type": "code",
   "execution_count": 48,
   "id": "4675a11a",
   "metadata": {
    "scrolled": true
   },
   "outputs": [
    {
     "data": {
      "image/png": "[encoded data removed]",
      "text/plain": [
       "<Figure size 576x360 with 1 Axes>"
      ]
     },
     "metadata": {
      "needs_background": "light"
     },
     "output_type": "display_data"
    }
   ],
   "source": [
    "company_success_until_2000['Компания'].value_counts().plot(kind = 'barh', figsize = (8, 5))\n",
    "plt.show()"
   ]
  },
  {
   "cell_type": "markdown",
   "id": "7e23f629",
   "metadata": {},
   "source": [
    "Выведем статистику компаний по  количеству  неудачных  полетов до 2000 года"
   ]
  },
  {
   "cell_type": "code",
   "execution_count": 28,
   "id": "61bf2a44",
   "metadata": {},
   "outputs": [
    {
     "name": "stdout",
     "output_type": "stream",
     "text": [
      "Выведем статистику компаний по  количеству  неудачных  полетов до 2000 года\n",
      "RVSN USSR          42\n",
      "NASA                5\n",
      "CASC                3\n",
      "Martin Marietta     3\n",
      "VKS RF              2\n",
      "MHI                 2\n",
      "ISRO                2\n",
      "ILS                 1\n",
      "Boeing              1\n",
      "US Air Force        1\n",
      "Name: Компания, dtype: int64\n"
     ]
    }
   ],
   "source": [
    "company_failure_until_2000 = df[(df['Статус миссии'] == 'Failure')&(df['Дата и время запуска']<2000)]\n",
    "print('Выведем статистику компаний по  количеству  неудачных  полетов до 2000 года')\n",
    "print(company_failure_until_2000['Компания'].value_counts())"
   ]
  },
  {
   "cell_type": "code",
   "execution_count": 50,
   "id": "1f235eda",
   "metadata": {},
   "outputs": [
    {
     "data": {
      "image/png": "[encoded data removed]",
      "text/plain": [
       "<Figure size 576x360 with 1 Axes>"
      ]
     },
     "metadata": {
      "needs_background": "light"
     },
     "output_type": "display_data"
    }
   ],
   "source": [
    "company_failure_until_2000['Компания'].value_counts().plot(kind = 'barh', figsize = (8, 5))\n",
    "plt.show()"
   ]
  },
  {
   "cell_type": "markdown",
   "id": "58f8ce61",
   "metadata": {},
   "source": [
    "Найдём отношение успешных полётов после 2000 года к не успешным исходя из  среднего значения"
   ]
  },
  {
   "cell_type": "code",
   "execution_count": 29,
   "id": "91df876f",
   "metadata": {},
   "outputs": [
    {
     "name": "stdout",
     "output_type": "stream",
     "text": [
      "Найдём отношение успешных полётов после 2000 года к не успешным исходя из  среднего значения\n",
      "88.75\n"
     ]
    }
   ],
   "source": [
    "print('Найдём отношение успешных полётов после 2000 года к не успешным исходя из  среднего значения')\n",
    "print(len(company_success_2000)/len(company_failure_2000))\n"
   ]
  },
  {
   "cell_type": "markdown",
   "id": "2756bbdc",
   "metadata": {},
   "source": [
    "Найдём отношение успешных полётов до 2000 года к не успешным исходя из  среднего значения"
   ]
  },
  {
   "cell_type": "code",
   "execution_count": 30,
   "id": "d954acd0",
   "metadata": {},
   "outputs": [
    {
     "name": "stdout",
     "output_type": "stream",
     "text": [
      "Найдём отношение успешных полётов до 2000 года к не успешным исходя из  среднего значения \n",
      "39.82258064516129\n"
     ]
    }
   ],
   "source": [
    "print('Найдём отношение успешных полётов до 2000 года к не успешным исходя из  среднего значения ')\n",
    "print(len(company_success_until_2000)/len(company_failure_until_2000))"
   ]
  },
  {
   "cell_type": "markdown",
   "id": "05d7fcbf",
   "metadata": {},
   "source": [
    "Найдём отношение успешных полётов к не успешным исходя из  среднего значения"
   ]
  },
  {
   "cell_type": "code",
   "execution_count": 31,
   "id": "6c5f6fe4",
   "metadata": {},
   "outputs": [
    {
     "name": "stdout",
     "output_type": "stream",
     "text": [
      "Найдём отношение успешных полётов к не успешным исходя из  среднего значения \n",
      "42.78787878787879\n"
     ]
    }
   ],
   "source": [
    "print('Найдём отношение успешных полётов к не успешным исходя из  среднего значения ')\n",
    "print(len(company_success)/len(company_failure))\n"
   ]
  },
  {
   "cell_type": "markdown",
   "id": "e4484b9a",
   "metadata": {},
   "source": [
    "Выведем статистику по средней стоимости миссий"
   ]
  },
  {
   "cell_type": "code",
   "execution_count": 32,
   "id": "042c2798",
   "metadata": {
    "scrolled": true
   },
   "outputs": [
    {
     "name": "stdout",
     "output_type": "stream",
     "text": [
      "Выведем статистику по средней стоимости миссий\n",
      "Компания\n",
      "Arianespace        1702.604167\n",
      "Boeing             1772.857143\n",
      "CASC               2639.753165\n",
      "ExPace              283.000000\n",
      "ILS                1015.384615\n",
      "ISRO                324.925373\n",
      "JAXA                560.000000\n",
      "Lockheed            350.000000\n",
      "MHI                 954.729730\n",
      "Martin Marietta     801.555556\n",
      "NASA               4107.483758\n",
      "RVSN USSR             5.000000\n",
      "Roscosmos           516.304348\n",
      "SpaceX              549.898990\n",
      "ULA                1510.000000\n",
      "US Air Force       1472.000000\n",
      "VKS RF              469.363636\n",
      "Name: Стоимость миссии, dtype: float64\n"
     ]
    }
   ],
   "source": [
    "print('Выведем статистику по средней стоимости миссий')\n",
    "print(df.groupby('Компания')['Стоимость миссии'].mean())"
   ]
  },
  {
   "cell_type": "markdown",
   "id": "cbc866b5",
   "metadata": {},
   "source": [
    "Как менялась стоимость миссий в зависимости от года"
   ]
  },
  {
   "cell_type": "code",
   "execution_count": 51,
   "id": "1c979912",
   "metadata": {},
   "outputs": [
    {
     "data": {
      "image/png": "[encoded data removed]",
      "text/plain": [
       "<Figure size 432x288 with 1 Axes>"
      ]
     },
     "metadata": {
      "needs_background": "light"
     },
     "output_type": "display_data"
    }
   ],
   "source": [
    "df.plot(x = 'Дата и время запуска', y = 'Стоимость миссии', kind = 'scatter')\n",
    "\n",
    "plt.show()"
   ]
  },
  {
   "cell_type": "markdown",
   "id": "7097a277",
   "metadata": {},
   "source": [
    "Изменение затрат на миссии"
   ]
  },
  {
   "cell_type": "code",
   "execution_count": 52,
   "id": "700674da",
   "metadata": {},
   "outputs": [
    {
     "data": {
      "image/png": "[encoded data removed]",
      "text/plain": [
       "<Figure size 432x288 with 1 Axes>"
      ]
     },
     "metadata": {},
     "output_type": "display_data"
    }
   ],
   "source": [
    "df['Стоимость миссии'].value_counts().plot(kind = 'pie')\n",
    "plt.show()"
   ]
  },
  {
   "cell_type": "markdown",
   "id": "185bfa40",
   "metadata": {},
   "source": [
    "# <font color = black> **Выводы** </font>"
   ]
  },
  {
   "cell_type": "markdown",
   "id": "f35b2f19",
   "metadata": {},
   "source": [
    "\n",
    "За время становления полётов в космос затраты на реализацию миссий сильно возросли, но при этом уменьшилась провальность миссий\n",
    "\n",
    "Наиболее сильными компаниями на момент 2020 года оказались :\n",
    "\n",
    "Arianespace\n",
    "\n",
    "VKS RF\n",
    "\n",
    "CASC\n",
    "\n",
    "ULA\n",
    "\n",
    "Boeing\n",
    "\n",
    "Roscosmos\n",
    "\n",
    "В 20 веке такими компаниями были:\n",
    "\n",
    "RVSN USSR\n",
    "\n",
    "US Air Force\n",
    "\n",
    "Arianespace\n",
    "\n",
    "Martin Marietta\n",
    "\n",
    "VKS RF\n",
    "\n",
    "Boeing"
   ]
  },
  {
   "cell_type": "markdown",
   "id": "1a952f8a",
   "metadata": {},
   "source": []
  },
  {
   "cell_type": "code",
   "execution_count": null,
   "id": "ce3dd19c",
   "metadata": {},
   "outputs": [],
   "source": []
  },
  {
   "cell_type": "code",
   "execution_count": null,
   "id": "374eac9a",
   "metadata": {},
   "outputs": [],
   "source": []
  },
  {
   "cell_type": "markdown",
   "id": "0de0fc11",
   "metadata": {},
   "source": []
  },
  {
   "cell_type": "code",
   "execution_count": null,
   "id": "4bf0f1b3",
   "metadata": {},
   "outputs": [],
   "source": []
  }
 ],
 "metadata": {
  "kernelspec": {
   "display_name": "Python 3 (ipykernel)",
   "language": "python",
   "name": "python3"
  },
  "language_info": {
   "codemirror_mode": {
    "name": "ipython",
    "version": 3
   },
   "file_extension": ".py",
   "mimetype": "text/x-python",
   "name": "python",
   "nbconvert_exporter": "python",
   "pygments_lexer": "ipython3",
   "version": "3.9.12"
  }
 },
 "nbformat": 4,
 "nbformat_minor": 5
}
